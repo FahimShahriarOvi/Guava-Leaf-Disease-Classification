{
 "cells": [
  {
   "cell_type": "markdown",
   "id": "f4a77468",
   "metadata": {},
   "source": [
    "## Load Libraries"
   ]
  },
  {
   "cell_type": "code",
   "execution_count": 1,
   "id": "7ffffd05",
   "metadata": {},
   "outputs": [],
   "source": [
    "import os\n",
    "import random\n",
    "import numpy as np\n",
    "from PIL import Image, ImageDraw\n",
    "from torchvision import transforms\n",
    "import matplotlib.pyplot as plt\n",
    "import seaborn as sns\n",
    "from collections import Counter"
   ]
  },
  {
   "cell_type": "markdown",
   "id": "dffbdd22",
   "metadata": {},
   "source": [
    "## Configuration"
   ]
  },
  {
   "cell_type": "code",
   "execution_count": 2,
   "id": "45d8239a",
   "metadata": {},
   "outputs": [],
   "source": [
    "\n",
    "original_dataset_dir = \"../data/Guava_Leaf\"\n",
    "output_dir = \"../augmented_data\"\n",
    "train_ratio, val_ratio, test_ratio = 0.7, 0.15, 0.15\n",
    "\n",
    "BALANCE_DATASET = True\n",
    "TARGET_SAMPLES_PER_CLASS = (None)"
   ]
  },
  {
   "cell_type": "markdown",
   "id": "54dd3b84",
   "metadata": {},
   "source": [
    "## Advanced Augmentation Functions"
   ]
  },
  {
   "cell_type": "markdown",
   "id": "90c08822",
   "metadata": {},
   "source": [
    "### Cut MIx"
   ]
  },
  {
   "cell_type": "code",
   "execution_count": 3,
   "id": "26c87e8c",
   "metadata": {},
   "outputs": [],
   "source": [
    "def cutmix_augmentation(img1, img2, alpha=1.0, image_size=(224, 224)):\n",
    "    transform = transforms.Compose(\n",
    "        [transforms.Resize(image_size), transforms.ToTensor()]\n",
    "    )\n",
    "\n",
    "    if alpha > 0:\n",
    "        lam = np.random.beta(alpha, alpha)\n",
    "    else:\n",
    "        lam = 1\n",
    "\n",
    "    img1_tensor = transform(img1)\n",
    "    img2_tensor = transform(img2)\n",
    "\n",
    "    channels, height, width = img1_tensor.shape\n",
    "\n",
    "    cut_rat = np.sqrt(1.0 - lam)\n",
    "    cut_w = int(width * cut_rat)\n",
    "    cut_h = int(height * cut_rat)\n",
    "\n",
    "    cx = np.random.randint(width)\n",
    "    cy = np.random.randint(height)\n",
    "\n",
    "    bbx1 = np.clip(cx - cut_w // 2, 0, width)\n",
    "    bby1 = np.clip(cy - cut_h // 2, 0, height)\n",
    "    bbx2 = np.clip(cx + cut_w // 2, 0, width)\n",
    "    bby2 = np.clip(cy + cut_h // 2, 0, height)\n",
    "\n",
    "    img1_tensor[:, bby1:bby2, bbx1:bbx2] = img2_tensor[:, bby1:bby2, bbx1:bbx2]\n",
    "\n",
    "    return transforms.ToPILImage()(img1_tensor)"
   ]
  },
  {
   "cell_type": "markdown",
   "id": "fe090cf2",
   "metadata": {},
   "source": [
    "### Mix up"
   ]
  },
  {
   "cell_type": "code",
   "execution_count": 4,
   "id": "0c7b9522",
   "metadata": {},
   "outputs": [],
   "source": [
    "def mixup_augmentation(img1, img2, alpha=0.2, image_size=(224, 224)):\n",
    "    transform = transforms.Compose(\n",
    "        [transforms.Resize(image_size), transforms.ToTensor()]\n",
    "    )\n",
    "\n",
    "    if alpha > 0:\n",
    "        lam = np.random.beta(alpha, alpha)\n",
    "    else:\n",
    "        lam = 1\n",
    "\n",
    "    img1_tensor = transform(img1)\n",
    "    img2_tensor = transform(img2)\n",
    "    \n",
    "    mixed_img = lam * img1_tensor + (1 - lam) * img2_tensor\n",
    "\n",
    "    return transforms.ToPILImage()(mixed_img)"
   ]
  },
  {
   "cell_type": "markdown",
   "id": "31103140",
   "metadata": {},
   "source": [
    "### Mosaic"
   ]
  },
  {
   "cell_type": "code",
   "execution_count": 5,
   "id": "cb433031",
   "metadata": {},
   "outputs": [],
   "source": [
    "def mosaic_augmentation(images, image_size=(224, 224)):\n",
    "    if len(images) < 4:\n",
    "        while len(images) < 4:\n",
    "            images.extend(images[: 4 - len(images)])\n",
    "\n",
    "    quarter_size = (image_size[0] // 2, image_size[1] // 2)\n",
    "    resized_imgs = [img.resize(quarter_size) for img in images[:4]]\n",
    "\n",
    "    mosaic_img = Image.new(\"RGB\", image_size)\n",
    "    mosaic_img.paste(resized_imgs[0], (0, 0))\n",
    "    mosaic_img.paste(resized_imgs[1], (quarter_size[0], 0))\n",
    "    mosaic_img.paste(resized_imgs[2], (0, quarter_size[1]))\n",
    "    mosaic_img.paste(resized_imgs[3], (quarter_size[0], quarter_size[1]))\n",
    "\n",
    "    return mosaic_img"
   ]
  },
  {
   "cell_type": "markdown",
   "id": "45663fd8",
   "metadata": {},
   "source": [
    "## Visualize Class Distribution"
   ]
  },
  {
   "cell_type": "code",
   "execution_count": 6,
   "id": "59671218",
   "metadata": {},
   "outputs": [],
   "source": [
    "def get_class_distribution(data_dir):\n",
    "    class_counts = {}\n",
    "    for class_name in os.listdir(data_dir):\n",
    "        class_path = os.path.join(data_dir, class_name)\n",
    "        if os.path.isdir(class_path):\n",
    "            images = [\n",
    "                f\n",
    "                for f in os.listdir(class_path)\n",
    "                if f.lower().endswith((\"png\", \"jpg\", \"jpeg\"))\n",
    "            ]\n",
    "            class_counts[class_name] = len(images)\n",
    "    return class_counts"
   ]
  },
  {
   "cell_type": "code",
   "execution_count": 7,
   "id": "101147d6",
   "metadata": {},
   "outputs": [],
   "source": [
    "def visualize_distribution(data_dir, title=\"Class Distribution\"):\n",
    "    class_counts = get_class_distribution(data_dir)\n",
    "    classes = list(class_counts.keys())\n",
    "    counts = list(class_counts.values())\n",
    "\n",
    "    plt.figure(figsize=(10, 6))\n",
    "    sns.barplot(x=classes, y=counts)\n",
    "    plt.xticks(rotation=45)\n",
    "    plt.title(title)\n",
    "    plt.ylabel(\"Number of Samples\")\n",
    "    plt.xlabel(\"Class\")\n",
    "    plt.tight_layout()\n",
    "    plt.show()\n",
    "\n",
    "    return class_counts"
   ]
  },
  {
   "cell_type": "markdown",
   "id": "bce029a7",
   "metadata": {},
   "source": [
    "## Create Output Directories"
   ]
  },
  {
   "cell_type": "code",
   "execution_count": 8,
   "id": "dac23f50",
   "metadata": {},
   "outputs": [
    {
     "name": "stdout",
     "output_type": "stream",
     "text": [
      "Output directories created!\n"
     ]
    }
   ],
   "source": [
    "for split in [\"train\", \"val\", \"test\"]:\n",
    "    split_dir = os.path.join(output_dir, split)\n",
    "    os.makedirs(split_dir, exist_ok=True)\n",
    "\n",
    "print(\"Output directories created!\")"
   ]
  },
  {
   "cell_type": "markdown",
   "id": "bfd98e02",
   "metadata": {},
   "source": [
    "## Split Dataset into Train/Val/Test"
   ]
  },
  {
   "cell_type": "code",
   "execution_count": 9,
   "id": "697b6007",
   "metadata": {},
   "outputs": [
    {
     "name": "stdout",
     "output_type": "stream",
     "text": [
      "Dataset split completed!\n"
     ]
    }
   ],
   "source": [
    "for class_name in os.listdir(original_dataset_dir):\n",
    "    class_path = os.path.join(original_dataset_dir, class_name)\n",
    "    if not os.path.isdir(class_path):\n",
    "        continue\n",
    "\n",
    "    images = [\n",
    "        f for f in os.listdir(class_path) if f.lower().endswith((\"png\", \"jpg\", \"jpeg\"))\n",
    "    ]\n",
    "    random.shuffle(images)\n",
    "\n",
    "    train_end = int(train_ratio * len(images))\n",
    "    val_end = train_end + int(val_ratio * len(images))\n",
    "\n",
    "    splits = {\n",
    "        \"train\": images[:train_end],\n",
    "        \"val\": images[train_end:val_end],\n",
    "        \"test\": images[val_end:],\n",
    "    }\n",
    "\n",
    "    for split, img_list in splits.items():\n",
    "        split_class_dir = os.path.join(output_dir, split, class_name)\n",
    "        os.makedirs(split_class_dir, exist_ok=True)\n",
    "\n",
    "        for img_file in img_list:\n",
    "            img_path = os.path.join(class_path, img_file)\n",
    "            img = Image.open(img_path).convert(\"RGB\")\n",
    "            img.save(os.path.join(split_class_dir, img_file))\n",
    "\n",
    "print(\"Dataset split completed!\")"
   ]
  },
  {
   "cell_type": "markdown",
   "id": "d2a96103",
   "metadata": {},
   "source": [
    "## Visualize Initial Distribution"
   ]
  },
  {
   "cell_type": "code",
   "execution_count": 10,
   "id": "a5a280da",
   "metadata": {},
   "outputs": [
    {
     "name": "stdout",
     "output_type": "stream",
     "text": [
      "\n",
      "Initial training set distribution:\n"
     ]
    },
    {
     "data": {
      "image/png": "[encoded data removed]",
      "text/plain": [
       "<Figure size 1000x600 with 1 Axes>"
      ]
     },
     "metadata": {},
     "output_type": "display_data"
    }
   ],
   "source": [
    "print(\"\\nInitial training set distribution:\")\n",
    "train_dir = os.path.join(output_dir, \"train\")\n",
    "initial_counts = visualize_distribution(train_dir, \"Initial Training Set Distribution\")"
   ]
  },
  {
   "cell_type": "markdown",
   "id": "401b0969",
   "metadata": {},
   "source": [
    "## Balance Training Dataset"
   ]
  },
  {
   "cell_type": "code",
   "execution_count": 11,
   "id": "773080ab",
   "metadata": {},
   "outputs": [
    {
     "name": "stdout",
     "output_type": "stream",
     "text": [
      "\n",
      "Balancing training dataset...\n",
      "Balancing dataset to 3145 samples per class...\n",
      "Current distribution: {'Anthracnose': 1161, 'Canker': 940, 'Dot': 1073, 'Helathy': 3145, 'Rust': 818}\n",
      "Generating 1984 samples for class 'Anthracnose'\n",
      "Generating 2205 samples for class 'Canker'\n",
      "Generating 2072 samples for class 'Dot'\n",
      "Class 'Helathy' already has sufficient samples (3145)\n",
      "Generating 2327 samples for class 'Rust'\n",
      "Dataset balancing completed!\n"
     ]
    }
   ],
   "source": [
    "if BALANCE_DATASET:\n",
    "    print(\"\\nBalancing training dataset...\")\n",
    "\n",
    "    class_counts = get_class_distribution(train_dir)\n",
    "\n",
    "    if TARGET_SAMPLES_PER_CLASS is None:\n",
    "        target_count = max(class_counts.values())\n",
    "    else:\n",
    "        target_count = TARGET_SAMPLES_PER_CLASS\n",
    "\n",
    "    print(f\"Balancing dataset to {target_count} samples per class...\")\n",
    "    print(f\"Current distribution: {class_counts}\")\n",
    "\n",
    "    for class_name, current_count in class_counts.items():\n",
    "        if current_count >= target_count:\n",
    "            print(\n",
    "                f\"Class '{class_name}' already has sufficient samples ({current_count})\"\n",
    "            )\n",
    "            continue\n",
    "\n",
    "        class_path = os.path.join(train_dir, class_name)\n",
    "        images = [\n",
    "            f\n",
    "            for f in os.listdir(class_path)\n",
    "            if f.lower().endswith((\"png\", \"jpg\", \"jpeg\"))\n",
    "        ]\n",
    "\n",
    "        needed_samples = target_count - current_count\n",
    "        print(f\"Generating {needed_samples} samples for class '{class_name}'\")\n",
    "\n",
    "        for i in range(needed_samples):\n",
    "            aug_method = random.choice([\"cutmix\", \"mixup\", \"mosaic\"])\n",
    "\n",
    "            if aug_method == \"cutmix\":\n",
    "                img1_path = os.path.join(class_path, random.choice(images))\n",
    "                img2_path = os.path.join(class_path, random.choice(images))\n",
    "\n",
    "                img1 = Image.open(img1_path).convert(\"RGB\")\n",
    "                img2 = Image.open(img2_path).convert(\"RGB\")\n",
    "\n",
    "                augmented_img = cutmix_augmentation(img1, img2)\n",
    "\n",
    "            elif aug_method == \"mixup\":\n",
    "                img1_path = os.path.join(class_path, random.choice(images))\n",
    "                img2_path = os.path.join(class_path, random.choice(images))\n",
    "\n",
    "                img1 = Image.open(img1_path).convert(\"RGB\")\n",
    "                img2 = Image.open(img2_path).convert(\"RGB\")\n",
    "\n",
    "                augmented_img = mixup_augmentation(img1, img2)\n",
    "\n",
    "            elif aug_method == \"mosaic\":\n",
    "                selected_imgs = []\n",
    "                for _ in range(4):\n",
    "                    img_path = os.path.join(class_path, random.choice(images))\n",
    "                    selected_imgs.append(Image.open(img_path).convert(\"RGB\"))\n",
    "\n",
    "                augmented_img = mosaic_augmentation(selected_imgs)\n",
    "\n",
    "            aug_filename = f\"aug_{aug_method}_{i:04d}.jpg\"\n",
    "            augmented_img.save(os.path.join(class_path, aug_filename))\n",
    "            images.append(aug_filename) \n",
    "\n",
    "    print(\"Dataset balancing completed!\")"
   ]
  },
  {
   "cell_type": "markdown",
   "id": "9caf2fcd",
   "metadata": {},
   "source": [
    "## Visualize Final Distribution"
   ]
  },
  {
   "cell_type": "code",
   "execution_count": 12,
   "id": "5c767790",
   "metadata": {},
   "outputs": [
    {
     "name": "stdout",
     "output_type": "stream",
     "text": [
      "\n",
      "Final balanced training set distribution:\n"
     ]
    },
    {
     "data": {
      "image/png": "[encoded data removed]",
      "text/plain": [
       "<Figure size 1000x600 with 1 Axes>"
      ]
     },
     "metadata": {},
     "output_type": "display_data"
    },
    {
     "name": "stdout",
     "output_type": "stream",
     "text": [
      "\n",
      "Balancing Summary:\n",
      "  Anthracnose: 1161 -> 3145 (+1984)\n",
      "  Canker: 940 -> 3145 (+2205)\n",
      "  Dot: 1073 -> 3145 (+2072)\n",
      "  Helathy: 3145 -> 3145 (+0)\n",
      "  Rust: 818 -> 3145 (+2327)\n"
     ]
    }
   ],
   "source": [
    "if BALANCE_DATASET:\n",
    "    print(\"\\nFinal balanced training set distribution:\")\n",
    "    balanced_counts = visualize_distribution(\n",
    "        train_dir, \"Balanced Training Set Distribution\"\n",
    "    )\n",
    "\n",
    "    print(f\"\\nBalancing Summary:\")\n",
    "    for class_name in initial_counts.keys():\n",
    "        initial = initial_counts[class_name]\n",
    "        final = balanced_counts[class_name]\n",
    "        added = final - initial\n",
    "        print(f\"  {class_name}: {initial} -> {final} (+{added})\")"
   ]
  },
  {
   "cell_type": "markdown",
   "id": "5e9a32f7",
   "metadata": {},
   "source": [
    "## Final Dataset Statistics"
   ]
  },
  {
   "cell_type": "code",
   "execution_count": 13,
   "id": "397d6c3b",
   "metadata": {},
   "outputs": [
    {
     "name": "stdout",
     "output_type": "stream",
     "text": [
      "\n",
      "Final Dataset Statistics:\n",
      "\n",
      "Train set: 15725 samples\n",
      "  Anthracnose: 3145\n",
      "  Canker: 3145\n",
      "  Dot: 3145\n",
      "  Helathy: 3145\n",
      "  Rust: 3145\n",
      "\n",
      "Val set: 1527 samples\n",
      "  Anthracnose: 248\n",
      "  Canker: 201\n",
      "  Dot: 229\n",
      "  Helathy: 674\n",
      "  Rust: 175\n",
      "\n",
      "Test set: 1535 samples\n",
      "  Anthracnose: 250\n",
      "  Canker: 203\n",
      "  Dot: 231\n",
      "  Helathy: 675\n",
      "  Rust: 176\n",
      "\n",
      "Dataset preparation completed successfully!\n"
     ]
    }
   ],
   "source": [
    "print(f\"\\nFinal Dataset Statistics:\")\n",
    "for split in [\"train\", \"val\", \"test\"]:\n",
    "    split_dir = os.path.join(output_dir, split)\n",
    "    split_counts = get_class_distribution(split_dir)\n",
    "    total = sum(split_counts.values())\n",
    "    print(f\"\\n{split.capitalize()} set: {total} samples\")\n",
    "    for class_name, count in split_counts.items():\n",
    "        print(f\"  {class_name}: {count}\")\n",
    "\n",
    "print(\"\\nDataset preparation completed successfully!\")"
   ]
  }
 ],
 "metadata": {
  "kernelspec": {
   "display_name": ".venv",
   "language": "python",
   "name": "python3"
  },
  "language_info": {
   "codemirror_mode": {
    "name": "ipython",
    "version": 3
   },
   "file_extension": ".py",
   "mimetype": "text/x-python",
   "name": "python",
   "nbconvert_exporter": "python",
   "pygments_lexer": "ipython3",
   "version": "3.13.1"
  }
 },
 "nbformat": 4,
 "nbformat_minor": 5
}
